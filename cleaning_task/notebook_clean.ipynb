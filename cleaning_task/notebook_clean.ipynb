{
 "cells": [
  {
   "cell_type": "code",
   "execution_count": 72,
   "id": "e2edad3c-8286-4983-b5b7-35d94fd78023",
   "metadata": {
    "executionCancelledAt": null,
    "executionTime": 51,
    "lastExecutedAt": 1755547076989,
    "lastExecutedByKernel": "9dc181ba-1ff1-4deb-b836-235d0d237faa",
    "lastScheduledRunId": null,
    "lastSuccessfullyExecutedCode": "import pandas as pd\nimport numpy as np"
   },
   "outputs": [],
   "source": [
    "import pandas as pd\n",
    "import numpy as np"
   ]
  },
  {
   "cell_type": "code",
   "execution_count": 73,
   "id": "273d3770-7ce3-4af0-803a-367517b550b0",
   "metadata": {
    "executionCancelledAt": null,
    "executionTime": 67,
    "lastExecutedAt": 1755547077056,
    "lastExecutedByKernel": "9dc181ba-1ff1-4deb-b836-235d0d237faa",
    "lastScheduledRunId": null,
    "lastSuccessfullyExecutedCode": "df = pd.read_csv(\"bank_marketing.csv\")\n\nfor col in [\"credit_default\", \"mortgage\", \"previous_outcome\", \"campaign_outcome\"]:\n    print(col)\n    print(\"--------------\")\n    print(df[col].value_counts())",
    "outputsMetadata": {
     "0": {
      "height": 404,
      "type": "stream"
     }
    }
   },
   "outputs": [
    {
     "name": "stdout",
     "output_type": "stream",
     "text": [
      "credit_default\n",
      "--------------\n",
      "no         32588\n",
      "unknown     8597\n",
      "yes            3\n",
      "Name: credit_default, dtype: int64\n",
      "mortgage\n",
      "--------------\n",
      "yes        21576\n",
      "no         18622\n",
      "unknown      990\n",
      "Name: mortgage, dtype: int64\n",
      "previous_outcome\n",
      "--------------\n",
      "nonexistent    35563\n",
      "failure         4252\n",
      "success         1373\n",
      "Name: previous_outcome, dtype: int64\n",
      "campaign_outcome\n",
      "--------------\n",
      "no     36548\n",
      "yes     4640\n",
      "Name: campaign_outcome, dtype: int64\n"
     ]
    }
   ],
   "source": [
    "df = pd.read_csv(\"bank_marketing.csv\")\n",
    "\n",
    "for col in [\"credit_default\", \"mortgage\", \"previous_outcome\", \"campaign_outcome\"]:\n",
    "    print(col)\n",
    "    print(\"--------------\")\n",
    "    print(df[col].value_counts())"
   ]
  },
  {
   "cell_type": "code",
   "execution_count": 74,
   "id": "82c6eb2f-7ef4-4d9f-ae4c-901245d6cd29",
   "metadata": {
    "executionCancelledAt": null,
    "executionTime": 113,
    "lastExecutedAt": 1755547077169,
    "lastExecutedByKernel": "9dc181ba-1ff1-4deb-b836-235d0d237faa",
    "lastScheduledRunId": null,
    "lastSuccessfullyExecutedCode": "import numpy as np\nimport pandas as pd\n\n# Assuming df is already defined somewhere in the notebook\nprint(df.head())\nprint(df.columns)\nclient = df[['client_id', 'age', 'job','marital','education','credit_default','mortgage']]\nprint(client)\n\n# client cleaning process\nclient['job'] = client['job'].str.replace(\".\",\"_\")\nclient['education'] = client['education'].str.replace(\".\",\"_\")\nclient['education'] = client['education'].replace('unknown', np.NaN)\nclient['credit_default'] = client['credit_default'].map({'yes': 1, 'no': 0,'unknown': 0}).astype('bool')\nclient['mortgage'] = client['mortgage'].map({'yes': 1, 'no': 0, 'unknown': 0}).astype('bool')\n\nprint(client.head())\n\ncampaign = df[['client_id','number_contacts','contact_duration','previous_campaign_contacts','previous_outcome','campaign_outcome','day','month']]\n\n# campaign cleaning process\ncampaign['previous_outcome'] = campaign['previous_outcome'].map({'success': 1, 'nonexistent':0, 'failure': 0}).astype('bool')\ncampaign['campaign_outcome'] = campaign['campaign_outcome'].map({'yes': 1, 'no': 0}).astype('bool')\ncampaign['year'] = 2022\n\n# Convert month and day names to numbers\ncampaign['month'] = pd.to_datetime(campaign['month'], format='%b').dt.month\ncampaign['day'] = campaign['day'].astype(int)\n\ncampaign['last_contact_date'] = pd.to_datetime(campaign[['year','month','day']])\n\n# Update the campaign DataFrame to include 'last_contact_date'\ncampaign = campaign[['client_id','number_contacts','contact_duration','previous_campaign_contacts','previous_outcome','campaign_outcome','last_contact_date']]\n\nprint(campaign.head())\n\n# economics cleaning process\neconomics = df[['client_id','cons_price_idx','euribor_three_months']]\nprint(economics.head())",
    "outputsMetadata": {
     "0": {
      "height": 404,
      "type": "stream"
     }
    }
   },
   "outputs": [
    {
     "name": "stdout",
     "output_type": "stream",
     "text": [
      "   client_id  age  ... euribor_three_months campaign_outcome\n",
      "0          0   56  ...                4.857               no\n",
      "1          1   57  ...                4.857               no\n",
      "2          2   37  ...                4.857               no\n",
      "3          3   40  ...                4.857               no\n",
      "4          4   56  ...                4.857               no\n",
      "\n",
      "[5 rows x 16 columns]\n",
      "Index(['client_id', 'age', 'job', 'marital', 'education', 'credit_default',\n",
      "       'mortgage', 'month', 'day', 'contact_duration', 'number_contacts',\n",
      "       'previous_campaign_contacts', 'previous_outcome', 'cons_price_idx',\n",
      "       'euribor_three_months', 'campaign_outcome'],\n",
      "      dtype='object')\n",
      "       client_id  age          job  ...            education credit_default mortgage\n",
      "0              0   56    housemaid  ...             basic.4y             no       no\n",
      "1              1   57     services  ...          high.school        unknown       no\n",
      "2              2   37     services  ...          high.school             no      yes\n",
      "3              3   40       admin.  ...             basic.6y             no       no\n",
      "4              4   56     services  ...          high.school             no       no\n",
      "...          ...  ...          ...  ...                  ...            ...      ...\n",
      "41183      41183   73      retired  ...  professional.course             no      yes\n",
      "41184      41184   46  blue-collar  ...  professional.course             no       no\n",
      "41185      41185   56      retired  ...    university.degree             no      yes\n",
      "41186      41186   44   technician  ...  professional.course             no       no\n",
      "41187      41187   74      retired  ...  professional.course             no      yes\n",
      "\n",
      "[41188 rows x 7 columns]\n",
      "   client_id  age        job  marital    education  credit_default  mortgage\n",
      "0          0   56  housemaid  married     basic_4y           False     False\n",
      "1          1   57   services  married  high_school           False     False\n",
      "2          2   37   services  married  high_school           False      True\n",
      "3          3   40     admin_  married     basic_6y           False     False\n",
      "4          4   56   services  married  high_school           False     False\n",
      "   client_id  number_contacts  ...  campaign_outcome  last_contact_date\n",
      "0          0                1  ...             False         2022-05-13\n",
      "1          1                1  ...             False         2022-05-19\n",
      "2          2                1  ...             False         2022-05-23\n",
      "3          3                1  ...             False         2022-05-27\n",
      "4          4                1  ...             False         2022-05-03\n",
      "\n",
      "[5 rows x 7 columns]\n",
      "   client_id  cons_price_idx  euribor_three_months\n",
      "0          0          93.994                 4.857\n",
      "1          1          93.994                 4.857\n",
      "2          2          93.994                 4.857\n",
      "3          3          93.994                 4.857\n",
      "4          4          93.994                 4.857\n"
     ]
    }
   ],
   "source": [
    "import numpy as np\n",
    "import pandas as pd\n",
    "\n",
    "# Assuming df is already defined somewhere in the notebook\n",
    "print(df.head())\n",
    "print(df.columns)\n",
    "client = df[['client_id', 'age', 'job','marital','education','credit_default','mortgage']]\n",
    "print(client)\n",
    "\n",
    "# client cleaning process\n",
    "client['job'] = client['job'].str.replace(\".\",\"_\")\n",
    "client['education'] = client['education'].str.replace(\".\",\"_\")\n",
    "client['education'] = client['education'].replace('unknown', np.NaN)\n",
    "client['credit_default'] = client['credit_default'].map({'yes': 1, 'no': 0,'unknown': 0}).astype('bool')\n",
    "client['mortgage'] = client['mortgage'].map({'yes': 1, 'no': 0, 'unknown': 0}).astype('bool')\n",
    "\n",
    "print(client.head())\n",
    "\n",
    "campaign = df[['client_id','number_contacts','contact_duration','previous_campaign_contacts','previous_outcome','campaign_outcome','day','month']]\n",
    "\n",
    "# campaign cleaning process\n",
    "campaign['previous_outcome'] = campaign['previous_outcome'].map({'success': 1, 'nonexistent':0, 'failure': 0}).astype('bool')\n",
    "campaign['campaign_outcome'] = campaign['campaign_outcome'].map({'yes': 1, 'no': 0}).astype('bool')\n",
    "campaign['year'] = 2022\n",
    "\n",
    "# Convert month and day names to numbers\n",
    "campaign['month'] = pd.to_datetime(campaign['month'], format='%b').dt.month\n",
    "campaign['day'] = campaign['day'].astype(int)\n",
    "\n",
    "campaign['last_contact_date'] = pd.to_datetime(campaign[['year','month','day']])\n",
    "\n",
    "# Update the campaign DataFrame to include 'last_contact_date'\n",
    "campaign = campaign[['client_id','number_contacts','contact_duration','previous_campaign_contacts','previous_outcome','campaign_outcome','last_contact_date']]\n",
    "\n",
    "print(campaign.head())\n",
    "\n",
    "# economics cleaning process\n",
    "economics = df[['client_id','cons_price_idx','euribor_three_months']]\n",
    "print(economics.head())"
   ]
  },
  {
   "cell_type": "code",
   "execution_count": 75,
   "id": "c0ce56a5-84b9-45aa-8278-e99bac269cc8",
   "metadata": {
    "executionCancelledAt": null,
    "executionTime": 407,
    "lastExecutedAt": 1755547077576,
    "lastExecutedByKernel": "9dc181ba-1ff1-4deb-b836-235d0d237faa",
    "lastScheduledRunId": null,
    "lastSuccessfullyExecutedCode": "client.csv = client.to_csv('client.csv', index=False)\ncampaign.csv = campaign.to_csv('campaign.csv', index=False)\neconomics.csv = economics.to_csv('economics.csv', index=False)\n",
    "outputsMetadata": {
     "0": {
      "height": 269,
      "type": "stream"
     }
    }
   },
   "outputs": [],
   "source": [
    "client.csv = client.to_csv('client.csv', index=False)\n",
    "campaign.csv = campaign.to_csv('campaign.csv', index=False)\n",
    "economics.csv = economics.to_csv('economics.csv', index=False)\n"
   ]
  }
 ],
 "metadata": {
  "editor": "DataCamp Workspace",
  "kernelspec": {
   "display_name": "Python 3 (ipykernel)",
   "language": "python",
   "name": "python3"
  },
  "language_info": {
   "codemirror_mode": {
    "name": "ipython",
    "version": 3
   },
   "file_extension": ".py",
   "mimetype": "text/x-python",
   "name": "python",
   "nbconvert_exporter": "python",
   "pygments_lexer": "ipython3",
   "version": "3.8.10"
  }
 },
 "nbformat": 4,
 "nbformat_minor": 5
}
